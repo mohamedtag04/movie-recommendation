{
  "cells": [
    {
      "cell_type": "code",
      "execution_count": 42,
      "id": "98e9b924",
      "metadata": {
        "trusted": true
      },
      "outputs": [],
      "source": [
        "import pandas as pd\n",
        "import numpy as np"
      ]
    },
    {
      "cell_type": "code",
      "execution_count": 43,
      "id": "56da216c",
      "metadata": {
        "trusted": true
      },
      "outputs": [],
      "source": [
        "credits = pd.read_csv(\"credits.csv\")\n",
        "movies = pd.read_csv(\"movies.csv\")"
      ]
    },
    {
      "cell_type": "code",
      "execution_count": 44,
      "id": "9557deec",
      "metadata": {
        "trusted": true
      },
      "outputs": [
        {
          "name": "stdout",
          "output_type": "stream",
          "text": [
            "<class 'pandas.core.frame.DataFrame'>\n",
            "RangeIndex: 4803 entries, 0 to 4802\n",
            "Data columns (total 4 columns):\n",
            " #   Column    Non-Null Count  Dtype \n",
            "---  ------    --------------  ----- \n",
            " 0   movie_id  4803 non-null   int64 \n",
            " 1   title     4803 non-null   object\n",
            " 2   cast      4803 non-null   object\n",
            " 3   crew      4803 non-null   object\n",
            "dtypes: int64(1), object(3)\n",
            "memory usage: 93.9+ KB\n"
          ]
        }
      ],
      "source": [
        "credits.info()"
      ]
    },
    {
      "cell_type": "code",
      "execution_count": 45,
      "id": "02b05706",
      "metadata": {
        "trusted": true
      },
      "outputs": [
        {
          "name": "stdout",
          "output_type": "stream",
          "text": [
            "<class 'pandas.core.frame.DataFrame'>\n",
            "RangeIndex: 4803 entries, 0 to 4802\n",
            "Data columns (total 20 columns):\n",
            " #   Column                Non-Null Count  Dtype  \n",
            "---  ------                --------------  -----  \n",
            " 0   budget                4803 non-null   int64  \n",
            " 1   genres                4803 non-null   object \n",
            " 2   homepage              1712 non-null   object \n",
            " 3   id                    4803 non-null   int64  \n",
            " 4   keywords              4803 non-null   object \n",
            " 5   original_language     4803 non-null   object \n",
            " 6   original_title        4803 non-null   object \n",
            " 7   overview              4800 non-null   object \n",
            " 8   popularity            4803 non-null   float64\n",
            " 9   production_companies  4803 non-null   object \n",
            " 10  production_countries  4803 non-null   object \n",
            " 11  release_date          4802 non-null   object \n",
            " 12  revenue               4803 non-null   int64  \n",
            " 13  runtime               4801 non-null   float64\n",
            " 14  spoken_languages      4803 non-null   object \n",
            " 15  status                4803 non-null   object \n",
            " 16  tagline               3959 non-null   object \n",
            " 17  title                 4803 non-null   object \n",
            " 18  vote_average          4803 non-null   float64\n",
            " 19  vote_count            4803 non-null   int64  \n",
            "dtypes: float64(3), int64(4), object(13)\n",
            "memory usage: 506.6+ KB\n"
          ]
        }
      ],
      "source": [
        "movies.info()"
      ]
    },
    {
      "cell_type": "code",
      "execution_count": 46,
      "id": "fe466d93",
      "metadata": {
        "trusted": true
      },
      "outputs": [],
      "source": [
        "merged = pd.concat([movies,credits[['movie_id','cast','crew']]], axis =1)"
      ]
    },
    {
      "cell_type": "code",
      "execution_count": 47,
      "id": "9a9b9800",
      "metadata": {
        "trusted": true
      },
      "outputs": [
        {
          "name": "stdout",
          "output_type": "stream",
          "text": [
            "<class 'pandas.core.frame.DataFrame'>\n",
            "RangeIndex: 4803 entries, 0 to 4802\n",
            "Data columns (total 23 columns):\n",
            " #   Column                Non-Null Count  Dtype  \n",
            "---  ------                --------------  -----  \n",
            " 0   budget                4803 non-null   int64  \n",
            " 1   genres                4803 non-null   object \n",
            " 2   homepage              1712 non-null   object \n",
            " 3   id                    4803 non-null   int64  \n",
            " 4   keywords              4803 non-null   object \n",
            " 5   original_language     4803 non-null   object \n",
            " 6   original_title        4803 non-null   object \n",
            " 7   overview              4800 non-null   object \n",
            " 8   popularity            4803 non-null   float64\n",
            " 9   production_companies  4803 non-null   object \n",
            " 10  production_countries  4803 non-null   object \n",
            " 11  release_date          4802 non-null   object \n",
            " 12  revenue               4803 non-null   int64  \n",
            " 13  runtime               4801 non-null   float64\n",
            " 14  spoken_languages      4803 non-null   object \n",
            " 15  status                4803 non-null   object \n",
            " 16  tagline               3959 non-null   object \n",
            " 17  title                 4803 non-null   object \n",
            " 18  vote_average          4803 non-null   float64\n",
            " 19  vote_count            4803 non-null   int64  \n",
            " 20  movie_id              4803 non-null   int64  \n",
            " 21  cast                  4803 non-null   object \n",
            " 22  crew                  4803 non-null   object \n",
            "dtypes: float64(3), int64(5), object(15)\n",
            "memory usage: 581.7+ KB\n"
          ]
        }
      ],
      "source": [
        "merged.info()"
      ]
    },
    {
      "cell_type": "code",
      "execution_count": 48,
      "id": "80287e80",
      "metadata": {
        "trusted": true
      },
      "outputs": [],
      "source": [
        "merged = merged[['movie_id','title', 'overview','genres', 'keywords', 'cast', 'crew']]"
      ]
    },
    {
      "cell_type": "code",
      "execution_count": 49,
      "id": "add88f62",
      "metadata": {
        "trusted": true
      },
      "outputs": [],
      "source": [
        "merged.dropna(inplace = True)"
      ]
    },
    {
      "cell_type": "code",
      "execution_count": 50,
      "id": "bf3bc4ae",
      "metadata": {
        "trusted": true
      },
      "outputs": [
        {
          "data": {
            "text/plain": [
              "movie_id    0\n",
              "title       0\n",
              "overview    0\n",
              "genres      0\n",
              "keywords    0\n",
              "cast        0\n",
              "crew        0\n",
              "dtype: int64"
            ]
          },
          "execution_count": 50,
          "metadata": {},
          "output_type": "execute_result"
        }
      ],
      "source": [
        "merged.isnull().sum()"
      ]
    },
    {
      "cell_type": "code",
      "execution_count": 51,
      "id": "2a394487",
      "metadata": {
        "trusted": true
      },
      "outputs": [],
      "source": [
        "import ast"
      ]
    },
    {
      "cell_type": "code",
      "execution_count": 52,
      "id": "a61be1d7",
      "metadata": {
        "trusted": true
      },
      "outputs": [],
      "source": [
        "def convert_genre(z):\n",
        "    L = []\n",
        "    for i in ast.literal_eval(z):\n",
        "        L.append(i[\"name\"])\n",
        "    return L\n"
      ]
    },
    {
      "cell_type": "code",
      "execution_count": 53,
      "id": "7e9e56ac",
      "metadata": {
        "trusted": true
      },
      "outputs": [],
      "source": [
        "merged['genres'] = merged['genres'].apply(convert_genre)"
      ]
    },
    {
      "cell_type": "code",
      "execution_count": 54,
      "id": "5b2ee289",
      "metadata": {
        "trusted": true
      },
      "outputs": [],
      "source": [
        "merged['keywords'] = merged['keywords'].apply(convert_genre)"
      ]
    },
    {
      "cell_type": "code",
      "execution_count": 55,
      "id": "1d0e10f8",
      "metadata": {
        "trusted": true
      },
      "outputs": [
        {
          "data": {
            "text/html": [
              "<div>\n",
              "<style scoped>\n",
              "    .dataframe tbody tr th:only-of-type {\n",
              "        vertical-align: middle;\n",
              "    }\n",
              "\n",
              "    .dataframe tbody tr th {\n",
              "        vertical-align: top;\n",
              "    }\n",
              "\n",
              "    .dataframe thead th {\n",
              "        text-align: right;\n",
              "    }\n",
              "</style>\n",
              "<table border=\"1\" class=\"dataframe\">\n",
              "  <thead>\n",
              "    <tr style=\"text-align: right;\">\n",
              "      <th></th>\n",
              "      <th>movie_id</th>\n",
              "      <th>title</th>\n",
              "      <th>overview</th>\n",
              "      <th>genres</th>\n",
              "      <th>keywords</th>\n",
              "      <th>cast</th>\n",
              "      <th>crew</th>\n",
              "    </tr>\n",
              "  </thead>\n",
              "  <tbody>\n",
              "    <tr>\n",
              "      <th>0</th>\n",
              "      <td>19995</td>\n",
              "      <td>Avatar</td>\n",
              "      <td>In the 22nd century, a paraplegic Marine is di...</td>\n",
              "      <td>[Action, Adventure, Fantasy, Science Fiction]</td>\n",
              "      <td>[culture clash, future, space war, space colon...</td>\n",
              "      <td>[{\"cast_id\": 242, \"character\": \"Jake Sully\", \"...</td>\n",
              "      <td>[{\"credit_id\": \"52fe48009251416c750aca23\", \"de...</td>\n",
              "    </tr>\n",
              "    <tr>\n",
              "      <th>1</th>\n",
              "      <td>285</td>\n",
              "      <td>Pirates of the Caribbean: At World's End</td>\n",
              "      <td>Captain Barbossa, long believed to be dead, ha...</td>\n",
              "      <td>[Adventure, Fantasy, Action]</td>\n",
              "      <td>[ocean, drug abuse, exotic island, east india ...</td>\n",
              "      <td>[{\"cast_id\": 4, \"character\": \"Captain Jack Spa...</td>\n",
              "      <td>[{\"credit_id\": \"52fe4232c3a36847f800b579\", \"de...</td>\n",
              "    </tr>\n",
              "    <tr>\n",
              "      <th>2</th>\n",
              "      <td>206647</td>\n",
              "      <td>Spectre</td>\n",
              "      <td>A cryptic message from Bond’s past sends him o...</td>\n",
              "      <td>[Action, Adventure, Crime]</td>\n",
              "      <td>[spy, based on novel, secret agent, sequel, mi...</td>\n",
              "      <td>[{\"cast_id\": 1, \"character\": \"James Bond\", \"cr...</td>\n",
              "      <td>[{\"credit_id\": \"54805967c3a36829b5002c41\", \"de...</td>\n",
              "    </tr>\n",
              "    <tr>\n",
              "      <th>3</th>\n",
              "      <td>49026</td>\n",
              "      <td>The Dark Knight Rises</td>\n",
              "      <td>Following the death of District Attorney Harve...</td>\n",
              "      <td>[Action, Crime, Drama, Thriller]</td>\n",
              "      <td>[dc comics, crime fighter, terrorist, secret i...</td>\n",
              "      <td>[{\"cast_id\": 2, \"character\": \"Bruce Wayne / Ba...</td>\n",
              "      <td>[{\"credit_id\": \"52fe4781c3a36847f81398c3\", \"de...</td>\n",
              "    </tr>\n",
              "    <tr>\n",
              "      <th>4</th>\n",
              "      <td>49529</td>\n",
              "      <td>John Carter</td>\n",
              "      <td>John Carter is a war-weary, former military ca...</td>\n",
              "      <td>[Action, Adventure, Science Fiction]</td>\n",
              "      <td>[based on novel, mars, medallion, space travel...</td>\n",
              "      <td>[{\"cast_id\": 5, \"character\": \"John Carter\", \"c...</td>\n",
              "      <td>[{\"credit_id\": \"52fe479ac3a36847f813eaa3\", \"de...</td>\n",
              "    </tr>\n",
              "  </tbody>\n",
              "</table>\n",
              "</div>"
            ],
            "text/plain": [
              "   movie_id                                     title  \\\n",
              "0     19995                                    Avatar   \n",
              "1       285  Pirates of the Caribbean: At World's End   \n",
              "2    206647                                   Spectre   \n",
              "3     49026                     The Dark Knight Rises   \n",
              "4     49529                               John Carter   \n",
              "\n",
              "                                            overview  \\\n",
              "0  In the 22nd century, a paraplegic Marine is di...   \n",
              "1  Captain Barbossa, long believed to be dead, ha...   \n",
              "2  A cryptic message from Bond’s past sends him o...   \n",
              "3  Following the death of District Attorney Harve...   \n",
              "4  John Carter is a war-weary, former military ca...   \n",
              "\n",
              "                                          genres  \\\n",
              "0  [Action, Adventure, Fantasy, Science Fiction]   \n",
              "1                   [Adventure, Fantasy, Action]   \n",
              "2                     [Action, Adventure, Crime]   \n",
              "3               [Action, Crime, Drama, Thriller]   \n",
              "4           [Action, Adventure, Science Fiction]   \n",
              "\n",
              "                                            keywords  \\\n",
              "0  [culture clash, future, space war, space colon...   \n",
              "1  [ocean, drug abuse, exotic island, east india ...   \n",
              "2  [spy, based on novel, secret agent, sequel, mi...   \n",
              "3  [dc comics, crime fighter, terrorist, secret i...   \n",
              "4  [based on novel, mars, medallion, space travel...   \n",
              "\n",
              "                                                cast  \\\n",
              "0  [{\"cast_id\": 242, \"character\": \"Jake Sully\", \"...   \n",
              "1  [{\"cast_id\": 4, \"character\": \"Captain Jack Spa...   \n",
              "2  [{\"cast_id\": 1, \"character\": \"James Bond\", \"cr...   \n",
              "3  [{\"cast_id\": 2, \"character\": \"Bruce Wayne / Ba...   \n",
              "4  [{\"cast_id\": 5, \"character\": \"John Carter\", \"c...   \n",
              "\n",
              "                                                crew  \n",
              "0  [{\"credit_id\": \"52fe48009251416c750aca23\", \"de...  \n",
              "1  [{\"credit_id\": \"52fe4232c3a36847f800b579\", \"de...  \n",
              "2  [{\"credit_id\": \"54805967c3a36829b5002c41\", \"de...  \n",
              "3  [{\"credit_id\": \"52fe4781c3a36847f81398c3\", \"de...  \n",
              "4  [{\"credit_id\": \"52fe479ac3a36847f813eaa3\", \"de...  "
            ]
          },
          "execution_count": 55,
          "metadata": {},
          "output_type": "execute_result"
        }
      ],
      "source": [
        "merged.head()"
      ]
    },
    {
      "cell_type": "code",
      "execution_count": 56,
      "id": "8452ac81",
      "metadata": {
        "trusted": true
      },
      "outputs": [],
      "source": [
        "def convert_cast(x):\n",
        "    L = []\n",
        "    counter = 0\n",
        "    for i in ast.literal_eval(x):\n",
        "        if counter != 3:\n",
        "            L.append(i['name'])\n",
        "            counter+=1\n",
        "        else:\n",
        "            break\n",
        "        return L"
      ]
    },
    {
      "cell_type": "code",
      "execution_count": 57,
      "id": "773e0ebf",
      "metadata": {
        "scrolled": true,
        "trusted": true
      },
      "outputs": [],
      "source": [
        "merged['cast'] = merged['cast'].apply(convert_cast)"
      ]
    },
    {
      "cell_type": "raw",
      "id": "423ac9e7",
      "metadata": {},
      "source": []
    },
    {
      "cell_type": "code",
      "execution_count": 58,
      "id": "1fbf71d2",
      "metadata": {
        "trusted": true
      },
      "outputs": [
        {
          "data": {
            "text/plain": [
              "0       [Sam Worthington]\n",
              "1           [Johnny Depp]\n",
              "2          [Daniel Craig]\n",
              "3        [Christian Bale]\n",
              "4         [Taylor Kitsch]\n",
              "              ...        \n",
              "4798    [Carlos Gallardo]\n",
              "4799       [Edward Burns]\n",
              "4800        [Eric Mabius]\n",
              "4801      [Daniel Henney]\n",
              "4802     [Drew Barrymore]\n",
              "Name: cast, Length: 4800, dtype: object"
            ]
          },
          "execution_count": 58,
          "metadata": {},
          "output_type": "execute_result"
        }
      ],
      "source": [
        "merged['cast']"
      ]
    },
    {
      "cell_type": "code",
      "execution_count": 59,
      "id": "f203e72f",
      "metadata": {
        "trusted": true
      },
      "outputs": [],
      "source": [
        "def convert_director(x):\n",
        "    L = []\n",
        "    for i in ast.literal_eval(x):\n",
        "        if i['job']=='Director':\n",
        "            L.append(i['name'])\n",
        "            return L\n",
        "        "
      ]
    },
    {
      "cell_type": "code",
      "execution_count": 60,
      "id": "50941a28",
      "metadata": {
        "scrolled": true,
        "trusted": true
      },
      "outputs": [],
      "source": [
        "merged['crew'] = merged[\"crew\"].apply(convert_director)"
      ]
    },
    {
      "cell_type": "raw",
      "id": "0bfe3c48",
      "metadata": {},
      "source": []
    },
    {
      "cell_type": "code",
      "execution_count": 61,
      "id": "2abc56eb",
      "metadata": {
        "trusted": true
      },
      "outputs": [
        {
          "data": {
            "text/html": [
              "<div>\n",
              "<style scoped>\n",
              "    .dataframe tbody tr th:only-of-type {\n",
              "        vertical-align: middle;\n",
              "    }\n",
              "\n",
              "    .dataframe tbody tr th {\n",
              "        vertical-align: top;\n",
              "    }\n",
              "\n",
              "    .dataframe thead th {\n",
              "        text-align: right;\n",
              "    }\n",
              "</style>\n",
              "<table border=\"1\" class=\"dataframe\">\n",
              "  <thead>\n",
              "    <tr style=\"text-align: right;\">\n",
              "      <th></th>\n",
              "      <th>movie_id</th>\n",
              "      <th>title</th>\n",
              "      <th>overview</th>\n",
              "      <th>genres</th>\n",
              "      <th>keywords</th>\n",
              "      <th>cast</th>\n",
              "      <th>crew</th>\n",
              "    </tr>\n",
              "  </thead>\n",
              "  <tbody>\n",
              "    <tr>\n",
              "      <th>0</th>\n",
              "      <td>19995</td>\n",
              "      <td>Avatar</td>\n",
              "      <td>In the 22nd century, a paraplegic Marine is di...</td>\n",
              "      <td>[Action, Adventure, Fantasy, Science Fiction]</td>\n",
              "      <td>[culture clash, future, space war, space colon...</td>\n",
              "      <td>[Sam Worthington]</td>\n",
              "      <td>[James Cameron]</td>\n",
              "    </tr>\n",
              "    <tr>\n",
              "      <th>1</th>\n",
              "      <td>285</td>\n",
              "      <td>Pirates of the Caribbean: At World's End</td>\n",
              "      <td>Captain Barbossa, long believed to be dead, ha...</td>\n",
              "      <td>[Adventure, Fantasy, Action]</td>\n",
              "      <td>[ocean, drug abuse, exotic island, east india ...</td>\n",
              "      <td>[Johnny Depp]</td>\n",
              "      <td>[Gore Verbinski]</td>\n",
              "    </tr>\n",
              "    <tr>\n",
              "      <th>2</th>\n",
              "      <td>206647</td>\n",
              "      <td>Spectre</td>\n",
              "      <td>A cryptic message from Bond’s past sends him o...</td>\n",
              "      <td>[Action, Adventure, Crime]</td>\n",
              "      <td>[spy, based on novel, secret agent, sequel, mi...</td>\n",
              "      <td>[Daniel Craig]</td>\n",
              "      <td>[Sam Mendes]</td>\n",
              "    </tr>\n",
              "    <tr>\n",
              "      <th>3</th>\n",
              "      <td>49026</td>\n",
              "      <td>The Dark Knight Rises</td>\n",
              "      <td>Following the death of District Attorney Harve...</td>\n",
              "      <td>[Action, Crime, Drama, Thriller]</td>\n",
              "      <td>[dc comics, crime fighter, terrorist, secret i...</td>\n",
              "      <td>[Christian Bale]</td>\n",
              "      <td>[Christopher Nolan]</td>\n",
              "    </tr>\n",
              "    <tr>\n",
              "      <th>4</th>\n",
              "      <td>49529</td>\n",
              "      <td>John Carter</td>\n",
              "      <td>John Carter is a war-weary, former military ca...</td>\n",
              "      <td>[Action, Adventure, Science Fiction]</td>\n",
              "      <td>[based on novel, mars, medallion, space travel...</td>\n",
              "      <td>[Taylor Kitsch]</td>\n",
              "      <td>[Andrew Stanton]</td>\n",
              "    </tr>\n",
              "  </tbody>\n",
              "</table>\n",
              "</div>"
            ],
            "text/plain": [
              "   movie_id                                     title  \\\n",
              "0     19995                                    Avatar   \n",
              "1       285  Pirates of the Caribbean: At World's End   \n",
              "2    206647                                   Spectre   \n",
              "3     49026                     The Dark Knight Rises   \n",
              "4     49529                               John Carter   \n",
              "\n",
              "                                            overview  \\\n",
              "0  In the 22nd century, a paraplegic Marine is di...   \n",
              "1  Captain Barbossa, long believed to be dead, ha...   \n",
              "2  A cryptic message from Bond’s past sends him o...   \n",
              "3  Following the death of District Attorney Harve...   \n",
              "4  John Carter is a war-weary, former military ca...   \n",
              "\n",
              "                                          genres  \\\n",
              "0  [Action, Adventure, Fantasy, Science Fiction]   \n",
              "1                   [Adventure, Fantasy, Action]   \n",
              "2                     [Action, Adventure, Crime]   \n",
              "3               [Action, Crime, Drama, Thriller]   \n",
              "4           [Action, Adventure, Science Fiction]   \n",
              "\n",
              "                                            keywords               cast  \\\n",
              "0  [culture clash, future, space war, space colon...  [Sam Worthington]   \n",
              "1  [ocean, drug abuse, exotic island, east india ...      [Johnny Depp]   \n",
              "2  [spy, based on novel, secret agent, sequel, mi...     [Daniel Craig]   \n",
              "3  [dc comics, crime fighter, terrorist, secret i...   [Christian Bale]   \n",
              "4  [based on novel, mars, medallion, space travel...    [Taylor Kitsch]   \n",
              "\n",
              "                  crew  \n",
              "0      [James Cameron]  \n",
              "1     [Gore Verbinski]  \n",
              "2         [Sam Mendes]  \n",
              "3  [Christopher Nolan]  \n",
              "4     [Andrew Stanton]  "
            ]
          },
          "execution_count": 61,
          "metadata": {},
          "output_type": "execute_result"
        }
      ],
      "source": [
        "merged.head()"
      ]
    },
    {
      "cell_type": "code",
      "execution_count": null,
      "id": "ad8aae67",
      "metadata": {},
      "outputs": [],
      "source": []
    },
    {
      "cell_type": "code",
      "execution_count": null,
      "id": "6ae77919",
      "metadata": {},
      "outputs": [],
      "source": []
    },
    {
      "cell_type": "code",
      "execution_count": null,
      "id": "c1cbf77b",
      "metadata": {},
      "outputs": [],
      "source": []
    },
    {
      "cell_type": "code",
      "execution_count": null,
      "id": "a106b853",
      "metadata": {},
      "outputs": [],
      "source": []
    },
    {
      "cell_type": "code",
      "execution_count": 62,
      "id": "4550f180",
      "metadata": {
        "trusted": true
      },
      "outputs": [
        {
          "name": "stdout",
          "output_type": "stream",
          "text": [
            "<class 'pandas.core.frame.DataFrame'>\n",
            "Int64Index: 4800 entries, 0 to 4802\n",
            "Data columns (total 7 columns):\n",
            " #   Column    Non-Null Count  Dtype \n",
            "---  ------    --------------  ----- \n",
            " 0   movie_id  4800 non-null   int64 \n",
            " 1   title     4800 non-null   object\n",
            " 2   overview  4800 non-null   object\n",
            " 3   genres    4800 non-null   object\n",
            " 4   keywords  4800 non-null   object\n",
            " 5   cast      4758 non-null   object\n",
            " 6   crew      4770 non-null   object\n",
            "dtypes: int64(1), object(6)\n",
            "memory usage: 187.5+ KB\n"
          ]
        }
      ],
      "source": [
        "merged.info()"
      ]
    },
    {
      "cell_type": "code",
      "execution_count": 63,
      "id": "fd712831",
      "metadata": {
        "trusted": true
      },
      "outputs": [],
      "source": [
        "merged.dropna(inplace = True)"
      ]
    },
    {
      "cell_type": "code",
      "execution_count": 64,
      "id": "431b605d",
      "metadata": {
        "trusted": true
      },
      "outputs": [
        {
          "data": {
            "text/html": [
              "<div>\n",
              "<style scoped>\n",
              "    .dataframe tbody tr th:only-of-type {\n",
              "        vertical-align: middle;\n",
              "    }\n",
              "\n",
              "    .dataframe tbody tr th {\n",
              "        vertical-align: top;\n",
              "    }\n",
              "\n",
              "    .dataframe thead th {\n",
              "        text-align: right;\n",
              "    }\n",
              "</style>\n",
              "<table border=\"1\" class=\"dataframe\">\n",
              "  <thead>\n",
              "    <tr style=\"text-align: right;\">\n",
              "      <th></th>\n",
              "      <th>movie_id</th>\n",
              "      <th>title</th>\n",
              "      <th>overview</th>\n",
              "      <th>genres</th>\n",
              "      <th>keywords</th>\n",
              "      <th>cast</th>\n",
              "      <th>crew</th>\n",
              "    </tr>\n",
              "  </thead>\n",
              "  <tbody>\n",
              "    <tr>\n",
              "      <th>0</th>\n",
              "      <td>19995</td>\n",
              "      <td>Avatar</td>\n",
              "      <td>In the 22nd century, a paraplegic Marine is di...</td>\n",
              "      <td>[Action, Adventure, Fantasy, Science Fiction]</td>\n",
              "      <td>[culture clash, future, space war, space colon...</td>\n",
              "      <td>[Sam Worthington]</td>\n",
              "      <td>[James Cameron]</td>\n",
              "    </tr>\n",
              "    <tr>\n",
              "      <th>1</th>\n",
              "      <td>285</td>\n",
              "      <td>Pirates of the Caribbean: At World's End</td>\n",
              "      <td>Captain Barbossa, long believed to be dead, ha...</td>\n",
              "      <td>[Adventure, Fantasy, Action]</td>\n",
              "      <td>[ocean, drug abuse, exotic island, east india ...</td>\n",
              "      <td>[Johnny Depp]</td>\n",
              "      <td>[Gore Verbinski]</td>\n",
              "    </tr>\n",
              "    <tr>\n",
              "      <th>2</th>\n",
              "      <td>206647</td>\n",
              "      <td>Spectre</td>\n",
              "      <td>A cryptic message from Bond’s past sends him o...</td>\n",
              "      <td>[Action, Adventure, Crime]</td>\n",
              "      <td>[spy, based on novel, secret agent, sequel, mi...</td>\n",
              "      <td>[Daniel Craig]</td>\n",
              "      <td>[Sam Mendes]</td>\n",
              "    </tr>\n",
              "    <tr>\n",
              "      <th>3</th>\n",
              "      <td>49026</td>\n",
              "      <td>The Dark Knight Rises</td>\n",
              "      <td>Following the death of District Attorney Harve...</td>\n",
              "      <td>[Action, Crime, Drama, Thriller]</td>\n",
              "      <td>[dc comics, crime fighter, terrorist, secret i...</td>\n",
              "      <td>[Christian Bale]</td>\n",
              "      <td>[Christopher Nolan]</td>\n",
              "    </tr>\n",
              "    <tr>\n",
              "      <th>4</th>\n",
              "      <td>49529</td>\n",
              "      <td>John Carter</td>\n",
              "      <td>John Carter is a war-weary, former military ca...</td>\n",
              "      <td>[Action, Adventure, Science Fiction]</td>\n",
              "      <td>[based on novel, mars, medallion, space travel...</td>\n",
              "      <td>[Taylor Kitsch]</td>\n",
              "      <td>[Andrew Stanton]</td>\n",
              "    </tr>\n",
              "  </tbody>\n",
              "</table>\n",
              "</div>"
            ],
            "text/plain": [
              "   movie_id                                     title  \\\n",
              "0     19995                                    Avatar   \n",
              "1       285  Pirates of the Caribbean: At World's End   \n",
              "2    206647                                   Spectre   \n",
              "3     49026                     The Dark Knight Rises   \n",
              "4     49529                               John Carter   \n",
              "\n",
              "                                            overview  \\\n",
              "0  In the 22nd century, a paraplegic Marine is di...   \n",
              "1  Captain Barbossa, long believed to be dead, ha...   \n",
              "2  A cryptic message from Bond’s past sends him o...   \n",
              "3  Following the death of District Attorney Harve...   \n",
              "4  John Carter is a war-weary, former military ca...   \n",
              "\n",
              "                                          genres  \\\n",
              "0  [Action, Adventure, Fantasy, Science Fiction]   \n",
              "1                   [Adventure, Fantasy, Action]   \n",
              "2                     [Action, Adventure, Crime]   \n",
              "3               [Action, Crime, Drama, Thriller]   \n",
              "4           [Action, Adventure, Science Fiction]   \n",
              "\n",
              "                                            keywords               cast  \\\n",
              "0  [culture clash, future, space war, space colon...  [Sam Worthington]   \n",
              "1  [ocean, drug abuse, exotic island, east india ...      [Johnny Depp]   \n",
              "2  [spy, based on novel, secret agent, sequel, mi...     [Daniel Craig]   \n",
              "3  [dc comics, crime fighter, terrorist, secret i...   [Christian Bale]   \n",
              "4  [based on novel, mars, medallion, space travel...    [Taylor Kitsch]   \n",
              "\n",
              "                  crew  \n",
              "0      [James Cameron]  \n",
              "1     [Gore Verbinski]  \n",
              "2         [Sam Mendes]  \n",
              "3  [Christopher Nolan]  \n",
              "4     [Andrew Stanton]  "
            ]
          },
          "execution_count": 64,
          "metadata": {},
          "output_type": "execute_result"
        }
      ],
      "source": [
        "merged.head()"
      ]
    },
    {
      "cell_type": "code",
      "execution_count": 65,
      "id": "0ba0c4bd",
      "metadata": {
        "trusted": true
      },
      "outputs": [],
      "source": [
        "merged['genres'] = merged['genres'].apply(lambda x: [i.replace(\" \", '') if i else '' for i in x])\n",
        "merged['keywords'] = merged['keywords'].apply(lambda x: [i.replace(\" \", '') if i else '' for i in x])\n",
        "merged['crew'] = merged['crew'].apply(lambda x: [i.replace(\" \", '') if i else '' for i in x])\n",
        "merged['cast'] = merged['cast'].apply(lambda x: [i.replace(\" \", '') if i else '' for i in x])\n"
      ]
    },
    {
      "cell_type": "code",
      "execution_count": 66,
      "id": "2399fdad",
      "metadata": {
        "trusted": true
      },
      "outputs": [
        {
          "name": "stdout",
          "output_type": "stream",
          "text": [
            "<class 'pandas.core.frame.DataFrame'>\n",
            "Int64Index: 4749 entries, 0 to 4802\n",
            "Data columns (total 7 columns):\n",
            " #   Column    Non-Null Count  Dtype \n",
            "---  ------    --------------  ----- \n",
            " 0   movie_id  4749 non-null   int64 \n",
            " 1   title     4749 non-null   object\n",
            " 2   overview  4749 non-null   object\n",
            " 3   genres    4749 non-null   object\n",
            " 4   keywords  4749 non-null   object\n",
            " 5   cast      4749 non-null   object\n",
            " 6   crew      4749 non-null   object\n",
            "dtypes: int64(1), object(6)\n",
            "memory usage: 185.5+ KB\n"
          ]
        }
      ],
      "source": [
        "merged.info()"
      ]
    },
    {
      "cell_type": "code",
      "execution_count": 67,
      "id": "cd650ed5",
      "metadata": {
        "trusted": true
      },
      "outputs": [],
      "source": [
        "merged['overview'] = merged['overview'].apply(lambda x : x.split())"
      ]
    },
    {
      "cell_type": "code",
      "execution_count": 68,
      "id": "e4730b74",
      "metadata": {
        "trusted": true
      },
      "outputs": [
        {
          "data": {
            "text/plain": [
              "0           [JamesCameron]\n",
              "1          [GoreVerbinski]\n",
              "2              [SamMendes]\n",
              "3       [ChristopherNolan]\n",
              "4          [AndrewStanton]\n",
              "               ...        \n",
              "4798     [RobertRodriguez]\n",
              "4799         [EdwardBurns]\n",
              "4800          [ScottSmith]\n",
              "4801          [DanielHsia]\n",
              "4802     [BrianHerzlinger]\n",
              "Name: crew, Length: 4749, dtype: object"
            ]
          },
          "execution_count": 68,
          "metadata": {},
          "output_type": "execute_result"
        }
      ],
      "source": [
        "merged['crew']"
      ]
    },
    {
      "cell_type": "code",
      "execution_count": 69,
      "id": "786df5d9",
      "metadata": {
        "trusted": true
      },
      "outputs": [],
      "source": [
        "merged['tags'] = merged['overview']+merged['genres']+merged['keywords']+merged['cast']+merged['crew']"
      ]
    },
    {
      "cell_type": "code",
      "execution_count": 70,
      "id": "251a52cc",
      "metadata": {
        "scrolled": true,
        "trusted": true
      },
      "outputs": [
        {
          "data": {
            "text/plain": [
              "0       [In, the, 22nd, century,, a, paraplegic, Marin...\n",
              "1       [Captain, Barbossa,, long, believed, to, be, d...\n",
              "2       [A, cryptic, message, from, Bond’s, past, send...\n",
              "3       [Following, the, death, of, District, Attorney...\n",
              "4       [John, Carter, is, a, war-weary,, former, mili...\n",
              "                              ...                        \n",
              "4798    [El, Mariachi, just, wants, to, play, his, gui...\n",
              "4799    [A, newlywed, couple's, honeymoon, is, upended...\n",
              "4800    [\"Signed,, Sealed,, Delivered\", introduces, a,...\n",
              "4801    [When, ambitious, New, York, attorney, Sam, is...\n",
              "4802    [Ever, since, the, second, grade, when, he, fi...\n",
              "Name: tags, Length: 4749, dtype: object"
            ]
          },
          "execution_count": 70,
          "metadata": {},
          "output_type": "execute_result"
        }
      ],
      "source": [
        "merged['tags']"
      ]
    },
    {
      "cell_type": "code",
      "execution_count": 71,
      "id": "25578800",
      "metadata": {
        "trusted": true
      },
      "outputs": [],
      "source": [
        "new = merged[['movie_id', 'title', 'tags']]"
      ]
    },
    {
      "cell_type": "code",
      "execution_count": 72,
      "id": "924cc929",
      "metadata": {
        "trusted": true
      },
      "outputs": [
        {
          "data": {
            "text/plain": [
              "['In',\n",
              " 'the',\n",
              " '22nd',\n",
              " 'century,',\n",
              " 'a',\n",
              " 'paraplegic',\n",
              " 'Marine',\n",
              " 'is',\n",
              " 'dispatched',\n",
              " 'to',\n",
              " 'the',\n",
              " 'moon',\n",
              " 'Pandora',\n",
              " 'on',\n",
              " 'a',\n",
              " 'unique',\n",
              " 'mission,',\n",
              " 'but',\n",
              " 'becomes',\n",
              " 'torn',\n",
              " 'between',\n",
              " 'following',\n",
              " 'orders',\n",
              " 'and',\n",
              " 'protecting',\n",
              " 'an',\n",
              " 'alien',\n",
              " 'civilization.',\n",
              " 'Action',\n",
              " 'Adventure',\n",
              " 'Fantasy',\n",
              " 'ScienceFiction',\n",
              " 'cultureclash',\n",
              " 'future',\n",
              " 'spacewar',\n",
              " 'spacecolony',\n",
              " 'society',\n",
              " 'spacetravel',\n",
              " 'futuristic',\n",
              " 'romance',\n",
              " 'space',\n",
              " 'alien',\n",
              " 'tribe',\n",
              " 'alienplanet',\n",
              " 'cgi',\n",
              " 'marine',\n",
              " 'soldier',\n",
              " 'battle',\n",
              " 'loveaffair',\n",
              " 'antiwar',\n",
              " 'powerrelations',\n",
              " 'mindandsoul',\n",
              " '3d',\n",
              " 'SamWorthington',\n",
              " 'JamesCameron']"
            ]
          },
          "execution_count": 72,
          "metadata": {},
          "output_type": "execute_result"
        }
      ],
      "source": [
        "new['tags'][0]"
      ]
    },
    {
      "cell_type": "code",
      "execution_count": 73,
      "id": "553ed2da",
      "metadata": {
        "trusted": true
      },
      "outputs": [
        {
          "name": "stderr",
          "output_type": "stream",
          "text": [
            "<ipython-input-73-2bb4c4f2a77a>:1: SettingWithCopyWarning: \n",
            "A value is trying to be set on a copy of a slice from a DataFrame.\n",
            "Try using .loc[row_indexer,col_indexer] = value instead\n",
            "\n",
            "See the caveats in the documentation: https://pandas.pydata.org/pandas-docs/stable/user_guide/indexing.html#returning-a-view-versus-a-copy\n",
            "  new['tags'] = new['tags'].apply(lambda x: ' '.join(x))\n"
          ]
        }
      ],
      "source": [
        "new['tags'] = new['tags'].apply(lambda x: ' '.join(x))"
      ]
    },
    {
      "cell_type": "code",
      "execution_count": 74,
      "id": "5fa96af7",
      "metadata": {
        "trusted": true
      },
      "outputs": [
        {
          "name": "stderr",
          "output_type": "stream",
          "text": [
            "<ipython-input-74-8a2dbbadbcc3>:1: SettingWithCopyWarning: \n",
            "A value is trying to be set on a copy of a slice from a DataFrame.\n",
            "Try using .loc[row_indexer,col_indexer] = value instead\n",
            "\n",
            "See the caveats in the documentation: https://pandas.pydata.org/pandas-docs/stable/user_guide/indexing.html#returning-a-view-versus-a-copy\n",
            "  new['tags'] = new['tags'].apply(lambda x:x.lower())\n"
          ]
        }
      ],
      "source": [
        "new['tags'] = new['tags'].apply(lambda x:x.lower())"
      ]
    },
    {
      "cell_type": "code",
      "execution_count": 75,
      "id": "7c44a094",
      "metadata": {
        "trusted": true
      },
      "outputs": [
        {
          "data": {
            "text/html": [
              "<div>\n",
              "<style scoped>\n",
              "    .dataframe tbody tr th:only-of-type {\n",
              "        vertical-align: middle;\n",
              "    }\n",
              "\n",
              "    .dataframe tbody tr th {\n",
              "        vertical-align: top;\n",
              "    }\n",
              "\n",
              "    .dataframe thead th {\n",
              "        text-align: right;\n",
              "    }\n",
              "</style>\n",
              "<table border=\"1\" class=\"dataframe\">\n",
              "  <thead>\n",
              "    <tr style=\"text-align: right;\">\n",
              "      <th></th>\n",
              "      <th>movie_id</th>\n",
              "      <th>title</th>\n",
              "      <th>tags</th>\n",
              "    </tr>\n",
              "  </thead>\n",
              "  <tbody>\n",
              "    <tr>\n",
              "      <th>0</th>\n",
              "      <td>19995</td>\n",
              "      <td>Avatar</td>\n",
              "      <td>in the 22nd century, a paraplegic marine is di...</td>\n",
              "    </tr>\n",
              "    <tr>\n",
              "      <th>1</th>\n",
              "      <td>285</td>\n",
              "      <td>Pirates of the Caribbean: At World's End</td>\n",
              "      <td>captain barbossa, long believed to be dead, ha...</td>\n",
              "    </tr>\n",
              "    <tr>\n",
              "      <th>2</th>\n",
              "      <td>206647</td>\n",
              "      <td>Spectre</td>\n",
              "      <td>a cryptic message from bond’s past sends him o...</td>\n",
              "    </tr>\n",
              "    <tr>\n",
              "      <th>3</th>\n",
              "      <td>49026</td>\n",
              "      <td>The Dark Knight Rises</td>\n",
              "      <td>following the death of district attorney harve...</td>\n",
              "    </tr>\n",
              "    <tr>\n",
              "      <th>4</th>\n",
              "      <td>49529</td>\n",
              "      <td>John Carter</td>\n",
              "      <td>john carter is a war-weary, former military ca...</td>\n",
              "    </tr>\n",
              "  </tbody>\n",
              "</table>\n",
              "</div>"
            ],
            "text/plain": [
              "   movie_id                                     title  \\\n",
              "0     19995                                    Avatar   \n",
              "1       285  Pirates of the Caribbean: At World's End   \n",
              "2    206647                                   Spectre   \n",
              "3     49026                     The Dark Knight Rises   \n",
              "4     49529                               John Carter   \n",
              "\n",
              "                                                tags  \n",
              "0  in the 22nd century, a paraplegic marine is di...  \n",
              "1  captain barbossa, long believed to be dead, ha...  \n",
              "2  a cryptic message from bond’s past sends him o...  \n",
              "3  following the death of district attorney harve...  \n",
              "4  john carter is a war-weary, former military ca...  "
            ]
          },
          "execution_count": 75,
          "metadata": {},
          "output_type": "execute_result"
        }
      ],
      "source": [
        "new.head()"
      ]
    },
    {
      "cell_type": "code",
      "execution_count": 91,
      "id": "01bf04ea-28d6-4649-9a78-a9248c1a51c9",
      "metadata": {
        "trusted": true
      },
      "outputs": [],
      "source": [
        "import nltk"
      ]
    },
    {
      "cell_type": "code",
      "execution_count": 92,
      "id": "0667d7dd-9e23-4ccb-91ba-460b5cab1f21",
      "metadata": {
        "trusted": true
      },
      "outputs": [],
      "source": [
        "from nltk.stem.porter import PorterStemmer\n",
        "ps = PorterStemmer()"
      ]
    },
    {
      "cell_type": "code",
      "execution_count": 97,
      "id": "ff125e91-e300-4d59-90e1-3ca8494e3d53",
      "metadata": {
        "trusted": true
      },
      "outputs": [],
      "source": [
        "def stem(text):\n",
        "    y = []\n",
        "    \n",
        "    for i in text.split():\n",
        "        y.append(ps.stem(i))\n",
        "        \n",
        "    return \" \".join(y)"
      ]
    },
    {
      "cell_type": "code",
      "execution_count": 76,
      "id": "45ea8a16",
      "metadata": {
        "trusted": true
      },
      "outputs": [],
      "source": [
        "new.to_csv('final-content-filtering.csv', index = False)"
      ]
    },
    {
      "cell_type": "code",
      "execution_count": 100,
      "id": "84161b5c-d9bd-489e-b24f-b52e886c3b82",
      "metadata": {
        "trusted": true
      },
      "outputs": [
        {
          "name": "stderr",
          "output_type": "stream",
          "text": [
            "<ipython-input-100-0d6b095c9b14>:1: SettingWithCopyWarning: \n",
            "A value is trying to be set on a copy of a slice from a DataFrame.\n",
            "Try using .loc[row_indexer,col_indexer] = value instead\n",
            "\n",
            "See the caveats in the documentation: https://pandas.pydata.org/pandas-docs/stable/user_guide/indexing.html#returning-a-view-versus-a-copy\n",
            "  new['tags'] = new['tags'].apply(stem)\n"
          ]
        }
      ],
      "source": [
        "new['tags'] = new['tags'].apply(stem)"
      ]
    },
    {
      "cell_type": "code",
      "execution_count": 77,
      "id": "f18885cc-3146-4bcb-94d5-00a1ac09b4e5",
      "metadata": {
        "trusted": true
      },
      "outputs": [],
      "source": [
        "from sklearn.feature_extraction.text import CountVectorizer\n",
        "cv = CountVectorizer(max_features=5000,stop_words=\"english\")"
      ]
    },
    {
      "cell_type": "code",
      "execution_count": 78,
      "id": "d10db7fb-8b3e-4981-91cb-b039fa4875fb",
      "metadata": {
        "trusted": true
      },
      "outputs": [
        {
          "data": {
            "text/plain": [
              "array([[0, 0, 0, ..., 0, 0, 0],\n",
              "       [0, 0, 0, ..., 0, 0, 0],\n",
              "       [0, 0, 0, ..., 0, 0, 0],\n",
              "       ...,\n",
              "       [0, 0, 0, ..., 0, 0, 0],\n",
              "       [0, 0, 0, ..., 0, 0, 0],\n",
              "       [0, 0, 0, ..., 0, 0, 0]], dtype=int64)"
            ]
          },
          "execution_count": 78,
          "metadata": {},
          "output_type": "execute_result"
        }
      ],
      "source": [
        "cv.fit_transform(new['tags']).toarray()"
      ]
    },
    {
      "cell_type": "code",
      "execution_count": 101,
      "id": "5dcd5b7b-55c5-4e1f-8f23-cd03fde0fb27",
      "metadata": {
        "trusted": true
      },
      "outputs": [],
      "source": [
        "vectors = cv.fit_transform(new['tags']).toarray()"
      ]
    },
    {
      "cell_type": "code",
      "execution_count": 102,
      "id": "3cd10c05-b62f-4324-a30f-e7a5c626583a",
      "metadata": {
        "trusted": true
      },
      "outputs": [
        {
          "data": {
            "text/plain": [
              "array([[0, 0, 0, ..., 0, 0, 0],\n",
              "       [0, 0, 0, ..., 0, 0, 0],\n",
              "       [0, 0, 0, ..., 0, 0, 0],\n",
              "       ...,\n",
              "       [0, 0, 0, ..., 0, 0, 0],\n",
              "       [0, 0, 0, ..., 0, 0, 0],\n",
              "       [0, 0, 0, ..., 0, 0, 0]], dtype=int64)"
            ]
          },
          "execution_count": 102,
          "metadata": {},
          "output_type": "execute_result"
        }
      ],
      "source": [
        "vectors"
      ]
    },
    {
      "cell_type": "code",
      "execution_count": 103,
      "id": "cfe31528-db77-4c73-96e2-97dff91393c7",
      "metadata": {
        "trusted": true
      },
      "outputs": [
        {
          "data": {
            "text/plain": [
              "array([0, 0, 0, ..., 0, 0, 0], dtype=int64)"
            ]
          },
          "execution_count": 103,
          "metadata": {},
          "output_type": "execute_result"
        }
      ],
      "source": [
        "vectors[0]"
      ]
    },
    {
      "cell_type": "code",
      "execution_count": 104,
      "id": "db535acf-8ae9-452b-accb-5312518ec57a",
      "metadata": {
        "trusted": true
      },
      "outputs": [
        {
          "data": {
            "text/plain": [
              "array(['000', '007', '10', ..., 'zombies', 'zone', 'zoo'], dtype=object)"
            ]
          },
          "execution_count": 104,
          "metadata": {},
          "output_type": "execute_result"
        }
      ],
      "source": [
        "cv.get_feature_names_out()"
      ]
    },
    {
      "cell_type": "code",
      "execution_count": 95,
      "id": "d364cb7e-496c-4146-8738-f5382470cf55",
      "metadata": {
        "trusted": true
      },
      "outputs": [
        {
          "data": {
            "text/plain": [
              "'run'"
            ]
          },
          "execution_count": 95,
          "metadata": {},
          "output_type": "execute_result"
        }
      ],
      "source": [
        "ps.stem(\"running\")"
      ]
    },
    {
      "cell_type": "code",
      "execution_count": 98,
      "id": "c02569de-624c-424c-9651-f722a38b02de",
      "metadata": {
        "trusted": true
      },
      "outputs": [
        {
          "data": {
            "text/plain": [
              "'in the 22nd century, a parapleg marin is dispatch to the moon pandora on a uniqu mission, but becom torn between follow order and protect an alien civilization. action adventur fantasi sciencefict cultureclash futur spacewar spacecoloni societi spacetravel futurist romanc space alien tribe alienplanet cgi marin soldier battl loveaffair antiwar powerrel mindandsoul 3d samworthington jamescameron'"
            ]
          },
          "execution_count": 98,
          "metadata": {},
          "output_type": "execute_result"
        }
      ],
      "source": [
        "stem(new['tags'][0])"
      ]
    },
    {
      "cell_type": "code",
      "execution_count": 110,
      "id": "a889db8c-b696-4a39-a645-06434eb25497",
      "metadata": {
        "trusted": true
      },
      "outputs": [
        {
          "data": {
            "text/plain": [
              "array([[1.        , 0.08718573, 0.08718573, ..., 0.04559608, 0.        ,\n",
              "        0.        ],\n",
              "       [0.08718573, 1.        , 0.0625    , ..., 0.02451452, 0.        ,\n",
              "        0.02695819],\n",
              "       [0.08718573, 0.0625    , 1.        , ..., 0.02451452, 0.        ,\n",
              "        0.        ],\n",
              "       ...,\n",
              "       [0.04559608, 0.02451452, 0.02451452, ..., 1.        , 0.03962144,\n",
              "        0.04229549],\n",
              "       [0.        , 0.        , 0.        , ..., 0.03962144, 1.        ,\n",
              "        0.08714204],\n",
              "       [0.        , 0.02695819, 0.        , ..., 0.04229549, 0.08714204,\n",
              "        1.        ]])"
            ]
          },
          "execution_count": 110,
          "metadata": {},
          "output_type": "execute_result"
        }
      ],
      "source": [
        "from sklearn.metrics.pairwise import cosine_similarity\n",
        "cosine_similarity(vectors)"
      ]
    },
    {
      "cell_type": "code",
      "execution_count": 111,
      "id": "a69e4f2d-4890-4aa3-9024-23fe0b72806a",
      "metadata": {
        "trusted": true
      },
      "outputs": [
        {
          "data": {
            "text/plain": [
              "(4749, 4749)"
            ]
          },
          "execution_count": 111,
          "metadata": {},
          "output_type": "execute_result"
        }
      ],
      "source": [
        "cosine_similarity(vectors).shape"
      ]
    },
    {
      "cell_type": "code",
      "execution_count": 112,
      "id": "e9a6cb5e-9bc2-42f4-b117-737bd63bf0ee",
      "metadata": {
        "trusted": true
      },
      "outputs": [],
      "source": [
        "similarity = cosine_similarity(vectors)"
      ]
    },
    {
      "cell_type": "code",
      "execution_count": 113,
      "id": "23340b1a-d4c1-4ae2-8129-c8d9fc7b0883",
      "metadata": {
        "trusted": true
      },
      "outputs": [
        {
          "data": {
            "text/plain": [
              "array([0.08718573, 1.        , 0.0625    , ..., 0.02451452, 0.        ,\n",
              "       0.02695819])"
            ]
          },
          "execution_count": 113,
          "metadata": {},
          "output_type": "execute_result"
        }
      ],
      "source": [
        "similarity[1]"
      ]
    },
    {
      "cell_type": "code",
      "execution_count": 123,
      "id": "904a07b3-000c-42de-9509-ad31c528e90d",
      "metadata": {
        "trusted": true
      },
      "outputs": [
        {
          "data": {
            "text/plain": [
              "[0.2828678574017678,\n",
              " 0.26401000024165,\n",
              " 0.26155718717359333,\n",
              " 0.26130213378560535,\n",
              " 0.25112360116696136,\n",
              " 0.24784079854830487,\n",
              " 0.24784079854830487,\n",
              " 0.2460905535784756,\n",
              " 0.24534987303147354]"
            ]
          },
          "execution_count": 123,
          "metadata": {},
          "output_type": "execute_result"
        }
      ],
      "source": [
        "sorted(similarity[0], reverse=True)[1:10]"
      ]
    },
    {
      "cell_type": "code",
      "execution_count": 128,
      "id": "b76c03bd-6a27-46b9-a23c-63eb3764842f",
      "metadata": {
        "trusted": true
      },
      "outputs": [
        {
          "data": {
            "text/plain": [
              "[(1213, 0.2828678574017678),\n",
              " (3720, 0.26401000024165),\n",
              " (539, 0.26155718717359333),\n",
              " (507, 0.26130213378560535),\n",
              " (61, 0.25112360116696136),\n",
              " (1201, 0.24784079854830487),\n",
              " (2403, 0.24784079854830487),\n",
              " (582, 0.2460905535784756),\n",
              " (1191, 0.24534987303147354)]"
            ]
          },
          "execution_count": 128,
          "metadata": {},
          "output_type": "execute_result"
        }
      ],
      "source": [
        "sorted(list(enumerate(similarity[0])), reverse=True, key=lambda x:x[1]) [1:10]"
      ]
    },
    {
      "cell_type": "code",
      "execution_count": 132,
      "id": "5583a2d1-d0a8-43fb-80fe-c7ff3ce1b1a5",
      "metadata": {
        "trusted": true
      },
      "outputs": [],
      "source": [
        "def recommend(movie):\n",
        "    movie_index = new[new['title'] == movie].index[0]\n",
        "    distances = similarity[movie_index]\n",
        "    moviesList = sorted(list(enumerate(distances)), reverse=True, key=lambda x:x[1]) [1:10]\n",
        "    \n",
        "    for i in moviesList:\n",
        "        print(new.iloc[i[0]].title)"
      ]
    },
    {
      "cell_type": "code",
      "execution_count": 134,
      "id": "60649f5d-bf86-4806-b938-e97f04743718",
      "metadata": {
        "trusted": true
      },
      "outputs": [
        {
          "data": {
            "text/plain": [
              "0"
            ]
          },
          "execution_count": 134,
          "metadata": {},
          "output_type": "execute_result"
        }
      ],
      "source": [
        "new[new['title'] == 'Avatar'].index[0]"
      ]
    },
    {
      "cell_type": "code",
      "execution_count": 133,
      "id": "91782db9-0a44-4f0e-85ec-b6a0485a456b",
      "metadata": {
        "trusted": true
      },
      "outputs": [
        {
          "name": "stdout",
          "output_type": "stream",
          "text": [
            "Aliens vs Predator: Requiem\n",
            "Falcon Rising\n",
            "Titan A.E.\n",
            "Independence Day\n",
            "Jupiter Ascending\n",
            "Predators\n",
            "Aliens\n",
            "Battle: Los Angeles\n",
            "Small Soldiers\n"
          ]
        }
      ],
      "source": [
        "recommend('Avatar')"
      ]
    },
    {
      "cell_type": "code",
      "execution_count": 131,
      "id": "6bb51f13-dd66-4d95-abf6-0892b586b858",
      "metadata": {
        "trusted": true
      },
      "outputs": [
        {
          "data": {
            "text/plain": [
              "movie_id                                                11172\n",
              "title                                        Music and Lyrics\n",
              "tags        a wash up singer is given a coupl day to compo...\n",
              "Name: 1216, dtype: object"
            ]
          },
          "execution_count": 131,
          "metadata": {},
          "output_type": "execute_result"
        }
      ],
      "source": [
        "new.iloc[1216]"
      ]
    }
  ],
  "metadata": {
    "kernelspec": {
      "display_name": "Python (Pyodide)",
      "language": "python",
      "name": "python"
    },
    "language_info": {
      "codemirror_mode": {
        "name": "python",
        "version": 3
      },
      "file_extension": ".py",
      "mimetype": "text/x-python",
      "name": "python",
      "nbconvert_exporter": "python",
      "pygments_lexer": "ipython3",
      "version": "3.8"
    }
  },
  "nbformat": 4,
  "nbformat_minor": 5
}
