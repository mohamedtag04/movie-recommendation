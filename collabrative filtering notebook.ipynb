{
 "cells": [
  {
   "cell_type": "markdown",
   "id": "f6798867-fa92-442c-b1c0-37e4a5e614d9",
   "metadata": {},
   "source": [
    "# **CF movie recommendation engine**"
   ]
  },
  {
   "cell_type": "markdown",
   "id": "c45ed959-3c9c-4c7a-9595-b79d7e61e35a",
   "metadata": {},
   "source": [
    "### Importing libraries"
   ]
  },
  {
   "cell_type": "code",
   "execution_count": 1,
   "id": "b53258e0-652e-43fa-817b-50a0ff3526e5",
   "metadata": {},
   "outputs": [],
   "source": [
    "import pandas as pd\n",
    "import numpy as np"
   ]
  },
  {
   "cell_type": "markdown",
   "id": "c7cdc558-a74c-4f5b-afe0-233c9a6faa15",
   "metadata": {},
   "source": [
    "### Loading Movies CSV"
   ]
  },
  {
   "cell_type": "code",
   "execution_count": 2,
   "id": "97c641ca-9405-48d4-afb9-19744218c251",
   "metadata": {},
   "outputs": [
    {
     "name": "stdout",
     "output_type": "stream",
     "text": [
      "<class 'pandas.core.frame.DataFrame'>\n",
      "RangeIndex: 86537 entries, 0 to 86536\n",
      "Data columns (total 5 columns):\n",
      " #   Column      Non-Null Count  Dtype \n",
      "---  ------      --------------  ----- \n",
      " 0   Unnamed: 0  86537 non-null  int64 \n",
      " 1   movieId     86537 non-null  int64 \n",
      " 2   title       86537 non-null  object\n",
      " 3   genres      86537 non-null  object\n",
      " 4   tags        53452 non-null  object\n",
      "dtypes: int64(2), object(3)\n",
      "memory usage: 3.3+ MB\n",
      "None\n"
     ]
    },
    {
     "data": {
      "text/html": [
       "<div>\n",
       "<style scoped>\n",
       "    .dataframe tbody tr th:only-of-type {\n",
       "        vertical-align: middle;\n",
       "    }\n",
       "\n",
       "    .dataframe tbody tr th {\n",
       "        vertical-align: top;\n",
       "    }\n",
       "\n",
       "    .dataframe thead th {\n",
       "        text-align: right;\n",
       "    }\n",
       "</style>\n",
       "<table border=\"1\" class=\"dataframe\">\n",
       "  <thead>\n",
       "    <tr style=\"text-align: right;\">\n",
       "      <th></th>\n",
       "      <th>Unnamed: 0</th>\n",
       "      <th>movieId</th>\n",
       "      <th>title</th>\n",
       "      <th>genres</th>\n",
       "      <th>tags</th>\n",
       "    </tr>\n",
       "  </thead>\n",
       "  <tbody>\n",
       "    <tr>\n",
       "      <th>0</th>\n",
       "      <td>0</td>\n",
       "      <td>1</td>\n",
       "      <td>Toy Story (1995)</td>\n",
       "      <td>Adventure|Animation|Children|Comedy|Fantasy</td>\n",
       "      <td>sci-fi|battleship game|water|arm|humorous|come...</td>\n",
       "    </tr>\n",
       "    <tr>\n",
       "      <th>1</th>\n",
       "      <td>1</td>\n",
       "      <td>2</td>\n",
       "      <td>Jumanji (1995)</td>\n",
       "      <td>Adventure|Children|Fantasy</td>\n",
       "      <td>driving a car into a building|construction sit...</td>\n",
       "    </tr>\n",
       "    <tr>\n",
       "      <th>2</th>\n",
       "      <td>2</td>\n",
       "      <td>3</td>\n",
       "      <td>Grumpier Old Men (1995)</td>\n",
       "      <td>Comedy|Romance</td>\n",
       "      <td>best friend|old|old age|NO_FA_GANES|moldy|sequ...</td>\n",
       "    </tr>\n",
       "    <tr>\n",
       "      <th>3</th>\n",
       "      <td>3</td>\n",
       "      <td>4</td>\n",
       "      <td>Waiting to Exhale (1995)</td>\n",
       "      <td>Comedy|Drama|Romance</td>\n",
       "      <td>based on novel or book|girl movie|characters|i...</td>\n",
       "    </tr>\n",
       "    <tr>\n",
       "      <th>4</th>\n",
       "      <td>4</td>\n",
       "      <td>5</td>\n",
       "      <td>Father of the Bride Part II (1995)</td>\n",
       "      <td>Comedy</td>\n",
       "      <td>Comedy|growing old|confidence|aging|Diane Keat...</td>\n",
       "    </tr>\n",
       "  </tbody>\n",
       "</table>\n",
       "</div>"
      ],
      "text/plain": [
       "   Unnamed: 0  movieId                               title   \n",
       "0           0        1                    Toy Story (1995)  \\\n",
       "1           1        2                      Jumanji (1995)   \n",
       "2           2        3             Grumpier Old Men (1995)   \n",
       "3           3        4            Waiting to Exhale (1995)   \n",
       "4           4        5  Father of the Bride Part II (1995)   \n",
       "\n",
       "                                        genres   \n",
       "0  Adventure|Animation|Children|Comedy|Fantasy  \\\n",
       "1                   Adventure|Children|Fantasy   \n",
       "2                               Comedy|Romance   \n",
       "3                         Comedy|Drama|Romance   \n",
       "4                                       Comedy   \n",
       "\n",
       "                                                tags  \n",
       "0  sci-fi|battleship game|water|arm|humorous|come...  \n",
       "1  driving a car into a building|construction sit...  \n",
       "2  best friend|old|old age|NO_FA_GANES|moldy|sequ...  \n",
       "3  based on novel or book|girl movie|characters|i...  \n",
       "4  Comedy|growing old|confidence|aging|Diane Keat...  "
      ]
     },
     "execution_count": 2,
     "metadata": {},
     "output_type": "execute_result"
    }
   ],
   "source": [
    "# movies_df = pd.read_csv(\"./data/movies.csv\")\n",
    "movies_df = pd.read_csv(\"./data/movies_modified.csv\")\n",
    "print(movies_df.info())\n",
    "movies_df.head()"
   ]
  },
  {
   "cell_type": "markdown",
   "id": "96eee639-7a50-4f9f-bc51-4e609c48f426",
   "metadata": {},
   "source": [
    "### Loading ratings CSV"
   ]
  },
  {
   "cell_type": "code",
   "execution_count": 3,
   "id": "37ce9067-fad1-4398-b726-682151d72ecb",
   "metadata": {},
   "outputs": [
    {
     "name": "stdout",
     "output_type": "stream",
     "text": [
      "<class 'pandas.core.frame.DataFrame'>\n",
      "RangeIndex: 33832162 entries, 0 to 33832161\n",
      "Data columns (total 5 columns):\n",
      " #   Column      Dtype  \n",
      "---  ------      -----  \n",
      " 0   Unnamed: 0  int64  \n",
      " 1   userId      int64  \n",
      " 2   movieId     int64  \n",
      " 3   rating      float64\n",
      " 4   timestamp   int64  \n",
      "dtypes: float64(1), int64(4)\n",
      "memory usage: 1.3 GB\n",
      "None\n"
     ]
    },
    {
     "data": {
      "text/html": [
       "<div>\n",
       "<style scoped>\n",
       "    .dataframe tbody tr th:only-of-type {\n",
       "        vertical-align: middle;\n",
       "    }\n",
       "\n",
       "    .dataframe tbody tr th {\n",
       "        vertical-align: top;\n",
       "    }\n",
       "\n",
       "    .dataframe thead th {\n",
       "        text-align: right;\n",
       "    }\n",
       "</style>\n",
       "<table border=\"1\" class=\"dataframe\">\n",
       "  <thead>\n",
       "    <tr style=\"text-align: right;\">\n",
       "      <th></th>\n",
       "      <th>Unnamed: 0</th>\n",
       "      <th>userId</th>\n",
       "      <th>movieId</th>\n",
       "      <th>rating</th>\n",
       "      <th>timestamp</th>\n",
       "    </tr>\n",
       "  </thead>\n",
       "  <tbody>\n",
       "    <tr>\n",
       "      <th>0</th>\n",
       "      <td>0</td>\n",
       "      <td>1</td>\n",
       "      <td>1</td>\n",
       "      <td>3.666667</td>\n",
       "      <td>1225734739</td>\n",
       "    </tr>\n",
       "    <tr>\n",
       "      <th>1</th>\n",
       "      <td>1</td>\n",
       "      <td>1</td>\n",
       "      <td>110</td>\n",
       "      <td>3.666667</td>\n",
       "      <td>1225865086</td>\n",
       "    </tr>\n",
       "    <tr>\n",
       "      <th>2</th>\n",
       "      <td>2</td>\n",
       "      <td>1</td>\n",
       "      <td>158</td>\n",
       "      <td>3.666667</td>\n",
       "      <td>1225733503</td>\n",
       "    </tr>\n",
       "    <tr>\n",
       "      <th>3</th>\n",
       "      <td>3</td>\n",
       "      <td>1</td>\n",
       "      <td>260</td>\n",
       "      <td>4.333333</td>\n",
       "      <td>1225735204</td>\n",
       "    </tr>\n",
       "    <tr>\n",
       "      <th>4</th>\n",
       "      <td>4</td>\n",
       "      <td>1</td>\n",
       "      <td>356</td>\n",
       "      <td>5.000000</td>\n",
       "      <td>1225735119</td>\n",
       "    </tr>\n",
       "  </tbody>\n",
       "</table>\n",
       "</div>"
      ],
      "text/plain": [
       "   Unnamed: 0  userId  movieId    rating   timestamp\n",
       "0           0       1        1  3.666667  1225734739\n",
       "1           1       1      110  3.666667  1225865086\n",
       "2           2       1      158  3.666667  1225733503\n",
       "3           3       1      260  4.333333  1225735204\n",
       "4           4       1      356  5.000000  1225735119"
      ]
     },
     "execution_count": 3,
     "metadata": {},
     "output_type": "execute_result"
    }
   ],
   "source": [
    "# ratings_df = pd.read_csv(\"./data/ratings.csv\")\n",
    "ratings_df = pd.read_csv(\"./data/rates_modified.csv\")\n",
    "print(ratings_df.info())\n",
    "ratings_df.head()"
   ]
  },
  {
   "cell_type": "markdown",
   "id": "73e3068e-afe1-4bde-8bd3-18ab20e0df35",
   "metadata": {},
   "source": [
    "### Loading tags CSV"
   ]
  },
  {
   "cell_type": "code",
   "execution_count": 4,
   "id": "3d228111-92fa-4ed8-858b-977140c57ef7",
   "metadata": {},
   "outputs": [
    {
     "name": "stdout",
     "output_type": "stream",
     "text": [
      "<class 'pandas.core.frame.DataFrame'>\n",
      "RangeIndex: 2328315 entries, 0 to 2328314\n",
      "Data columns (total 4 columns):\n",
      " #   Column     Dtype \n",
      "---  ------     ----- \n",
      " 0   userId     int64 \n",
      " 1   movieId    int64 \n",
      " 2   tag        object\n",
      " 3   timestamp  int64 \n",
      "dtypes: int64(3), object(1)\n",
      "memory usage: 71.1+ MB\n",
      "None\n"
     ]
    },
    {
     "data": {
      "text/html": [
       "<div>\n",
       "<style scoped>\n",
       "    .dataframe tbody tr th:only-of-type {\n",
       "        vertical-align: middle;\n",
       "    }\n",
       "\n",
       "    .dataframe tbody tr th {\n",
       "        vertical-align: top;\n",
       "    }\n",
       "\n",
       "    .dataframe thead th {\n",
       "        text-align: right;\n",
       "    }\n",
       "</style>\n",
       "<table border=\"1\" class=\"dataframe\">\n",
       "  <thead>\n",
       "    <tr style=\"text-align: right;\">\n",
       "      <th></th>\n",
       "      <th>userId</th>\n",
       "      <th>movieId</th>\n",
       "      <th>tag</th>\n",
       "      <th>timestamp</th>\n",
       "    </tr>\n",
       "  </thead>\n",
       "  <tbody>\n",
       "    <tr>\n",
       "      <th>0</th>\n",
       "      <td>10</td>\n",
       "      <td>260</td>\n",
       "      <td>good vs evil</td>\n",
       "      <td>1430666558</td>\n",
       "    </tr>\n",
       "    <tr>\n",
       "      <th>1</th>\n",
       "      <td>10</td>\n",
       "      <td>260</td>\n",
       "      <td>Harrison Ford</td>\n",
       "      <td>1430666505</td>\n",
       "    </tr>\n",
       "    <tr>\n",
       "      <th>2</th>\n",
       "      <td>10</td>\n",
       "      <td>260</td>\n",
       "      <td>sci-fi</td>\n",
       "      <td>1430666538</td>\n",
       "    </tr>\n",
       "    <tr>\n",
       "      <th>3</th>\n",
       "      <td>14</td>\n",
       "      <td>1221</td>\n",
       "      <td>Al Pacino</td>\n",
       "      <td>1311600756</td>\n",
       "    </tr>\n",
       "    <tr>\n",
       "      <th>4</th>\n",
       "      <td>14</td>\n",
       "      <td>1221</td>\n",
       "      <td>mafia</td>\n",
       "      <td>1311600746</td>\n",
       "    </tr>\n",
       "  </tbody>\n",
       "</table>\n",
       "</div>"
      ],
      "text/plain": [
       "   userId  movieId            tag   timestamp\n",
       "0      10      260   good vs evil  1430666558\n",
       "1      10      260  Harrison Ford  1430666505\n",
       "2      10      260         sci-fi  1430666538\n",
       "3      14     1221      Al Pacino  1311600756\n",
       "4      14     1221          mafia  1311600746"
      ]
     },
     "execution_count": 4,
     "metadata": {},
     "output_type": "execute_result"
    }
   ],
   "source": [
    "tags_df = pd.read_csv(\"./data/tags.csv\")\n",
    "print(tags_df.info())\n",
    "tags_df.head()"
   ]
  },
  {
   "cell_type": "markdown",
   "id": "b6db1621-a265-4b68-888c-20dbf4958faa",
   "metadata": {},
   "source": [
    "### Extracting user given tags for each movie"
   ]
  },
  {
   "cell_type": "code",
   "execution_count": 5,
   "id": "0e0dfc1e-b064-402e-9d5c-3e390ac2ef3f",
   "metadata": {},
   "outputs": [],
   "source": [
    "moviesTags = []\n",
    "for id in movies_df[\"movieId\"]:\n",
    "    tags = set(tags_df[tags_df[\"movieId\"] == id][\"tag\"].astype(str))\n",
    "    moviesTags.append('|'.join(list(tags)))"
   ]
  },
  {
   "cell_type": "markdown",
   "id": "2a9d0e2e-a432-4606-94c7-7ccbeddba916",
   "metadata": {},
   "source": [
    "### Adding tags column for the movies dataframe"
   ]
  },
  {
   "cell_type": "code",
   "execution_count": 6,
   "id": "da3203f3-543c-4c8b-bf39-192b2d9cf33a",
   "metadata": {},
   "outputs": [
    {
     "data": {
      "text/html": [
       "<div>\n",
       "<style scoped>\n",
       "    .dataframe tbody tr th:only-of-type {\n",
       "        vertical-align: middle;\n",
       "    }\n",
       "\n",
       "    .dataframe tbody tr th {\n",
       "        vertical-align: top;\n",
       "    }\n",
       "\n",
       "    .dataframe thead th {\n",
       "        text-align: right;\n",
       "    }\n",
       "</style>\n",
       "<table border=\"1\" class=\"dataframe\">\n",
       "  <thead>\n",
       "    <tr style=\"text-align: right;\">\n",
       "      <th></th>\n",
       "      <th>movieId</th>\n",
       "      <th>title</th>\n",
       "      <th>genres</th>\n",
       "      <th>tags</th>\n",
       "    </tr>\n",
       "  </thead>\n",
       "  <tbody>\n",
       "    <tr>\n",
       "      <th>0</th>\n",
       "      <td>1</td>\n",
       "      <td>Toy Story (1995)</td>\n",
       "      <td>Adventure|Animation|Children|Comedy|Fantasy</td>\n",
       "      <td>kids and family|chrysler lebaron convertible|m...</td>\n",
       "    </tr>\n",
       "    <tr>\n",
       "      <th>1</th>\n",
       "      <td>2</td>\n",
       "      <td>Jumanji (1995)</td>\n",
       "      <td>Adventure|Children|Fantasy</td>\n",
       "      <td>cutting one's own hair|reference to wilt chamb...</td>\n",
       "    </tr>\n",
       "    <tr>\n",
       "      <th>2</th>\n",
       "      <td>3</td>\n",
       "      <td>Grumpier Old Men (1995)</td>\n",
       "      <td>Comedy|Romance</td>\n",
       "      <td>sequel|good soundtrack|Ann Margaret|old|moldy|...</td>\n",
       "    </tr>\n",
       "    <tr>\n",
       "      <th>3</th>\n",
       "      <td>4</td>\n",
       "      <td>Waiting to Exhale (1995)</td>\n",
       "      <td>Comedy|Drama|Romance</td>\n",
       "      <td>interracial relationship|revenge|slurs|girl mo...</td>\n",
       "    </tr>\n",
       "    <tr>\n",
       "      <th>4</th>\n",
       "      <td>5</td>\n",
       "      <td>Father of the Bride Part II (1995)</td>\n",
       "      <td>Comedy</td>\n",
       "      <td>sequel|daughter|pregnancy|growing old|childhoo...</td>\n",
       "    </tr>\n",
       "    <tr>\n",
       "      <th>5</th>\n",
       "      <td>6</td>\n",
       "      <td>Heat (1995)</td>\n",
       "      <td>Action|Crime|Thriller</td>\n",
       "      <td>In The Nucleus|Al Pacino Vs Robert De Niro|tra...</td>\n",
       "    </tr>\n",
       "    <tr>\n",
       "      <th>6</th>\n",
       "      <td>7</td>\n",
       "      <td>Sabrina (1995)</td>\n",
       "      <td>Comedy|Romance</td>\n",
       "      <td>fashion assistant|sexuality|female protagonist...</td>\n",
       "    </tr>\n",
       "    <tr>\n",
       "      <th>7</th>\n",
       "      <td>8</td>\n",
       "      <td>Tom and Huck (1995)</td>\n",
       "      <td>Adventure|Children</td>\n",
       "      <td>flintlock rifle|alabama|evil man|kiss|disarmin...</td>\n",
       "    </tr>\n",
       "    <tr>\n",
       "      <th>8</th>\n",
       "      <td>9</td>\n",
       "      <td>Sudden Death (1995)</td>\n",
       "      <td>Action</td>\n",
       "      <td>mercilessness|evil man|disarming someone|stabb...</td>\n",
       "    </tr>\n",
       "    <tr>\n",
       "      <th>9</th>\n",
       "      <td>10</td>\n",
       "      <td>GoldenEye (1995)</td>\n",
       "      <td>Action|Adventure|Thriller</td>\n",
       "      <td>m character|villainess|automobile|shaken not s...</td>\n",
       "    </tr>\n",
       "  </tbody>\n",
       "</table>\n",
       "</div>"
      ],
      "text/plain": [
       "   movieId                               title   \n",
       "0        1                    Toy Story (1995)  \\\n",
       "1        2                      Jumanji (1995)   \n",
       "2        3             Grumpier Old Men (1995)   \n",
       "3        4            Waiting to Exhale (1995)   \n",
       "4        5  Father of the Bride Part II (1995)   \n",
       "5        6                         Heat (1995)   \n",
       "6        7                      Sabrina (1995)   \n",
       "7        8                 Tom and Huck (1995)   \n",
       "8        9                 Sudden Death (1995)   \n",
       "9       10                    GoldenEye (1995)   \n",
       "\n",
       "                                        genres   \n",
       "0  Adventure|Animation|Children|Comedy|Fantasy  \\\n",
       "1                   Adventure|Children|Fantasy   \n",
       "2                               Comedy|Romance   \n",
       "3                         Comedy|Drama|Romance   \n",
       "4                                       Comedy   \n",
       "5                        Action|Crime|Thriller   \n",
       "6                               Comedy|Romance   \n",
       "7                           Adventure|Children   \n",
       "8                                       Action   \n",
       "9                    Action|Adventure|Thriller   \n",
       "\n",
       "                                                tags  \n",
       "0  kids and family|chrysler lebaron convertible|m...  \n",
       "1  cutting one's own hair|reference to wilt chamb...  \n",
       "2  sequel|good soundtrack|Ann Margaret|old|moldy|...  \n",
       "3  interracial relationship|revenge|slurs|girl mo...  \n",
       "4  sequel|daughter|pregnancy|growing old|childhoo...  \n",
       "5  In The Nucleus|Al Pacino Vs Robert De Niro|tra...  \n",
       "6  fashion assistant|sexuality|female protagonist...  \n",
       "7  flintlock rifle|alabama|evil man|kiss|disarmin...  \n",
       "8  mercilessness|evil man|disarming someone|stabb...  \n",
       "9  m character|villainess|automobile|shaken not s...  "
      ]
     },
     "execution_count": 6,
     "metadata": {},
     "output_type": "execute_result"
    }
   ],
   "source": [
    "movies_df[\"tags\"] = moviesTags\n",
    "movies_df.head(10)"
   ]
  },
  {
   "cell_type": "code",
   "execution_count": 7,
   "id": "a00ee64a-7692-4519-be13-d432e10a60fa",
   "metadata": {},
   "outputs": [],
   "source": [
    "# Saving modified dataframe\n",
    "# movies_df.to_csv(\"./data/movies_modified.csv\")"
   ]
  },
  {
   "cell_type": "markdown",
   "id": "dad1155b-7457-4d35-809d-9d4bd8739074",
   "metadata": {},
   "source": [
    "### Normalizing users rating"
   ]
  },
  {
   "cell_type": "code",
   "execution_count": 26,
   "id": "5195be16-d6ad-4d45-9092-9b79282b450e",
   "metadata": {},
   "outputs": [],
   "source": [
    "temp_df = ratings_df.copy()\n",
    "\n",
    "# Calculate the minimum and maximum ratings for each user\n",
    "user_min_ratings = temp_df.groupby(\"userId\")[\"rating\"].transform(\"min\")\n",
    "user_max_ratings = temp_df.groupby(\"userId\")[\"rating\"].transform(\"max\")\n",
    "\n",
    "# Normalize the ratings for each user\n",
    "temp_df[\"rating\"] = 4 / (user_max_ratings - user_min_ratings) * (temp_df[\"rating\"] - user_max_ratings) + 5\n",
    "\n",
    "temp_df.head(20)\n",
    "ratings_df = temp_df"
   ]
  },
  {
   "cell_type": "code",
   "execution_count": 27,
   "id": "87b02a9e-1bf5-43db-bc26-ea731c5518c8",
   "metadata": {},
   "outputs": [],
   "source": [
    "# Saving modified dataframe\n",
    "# temp_df.to_csv(\"./data/rates_modified.csv\")"
   ]
  },
  {
   "cell_type": "markdown",
   "id": "90851efd-1a64-4d1a-bdb3-8d235556f336",
   "metadata": {},
   "source": [
    "### Importing deep learning libraries"
   ]
  },
  {
   "cell_type": "code",
   "execution_count": 29,
   "id": "b3fc2006-6c3f-4a1f-bc33-5f4d7a09787b",
   "metadata": {},
   "outputs": [],
   "source": [
    "# !pip install tensorflow\n",
    "# !pip install keras\n",
    "import tensorflow\n",
    "from keras.layers import Embedding, Reshape, Concatenate\n",
    "from keras.models import Sequential\n",
    "from keras.optimizers import Adamax\n",
    "from keras.callbacks import EarlyStopping, ModelCheckpoint"
   ]
  },
  {
   "cell_type": "markdown",
   "id": "04368339-c867-4377-b851-02e3775691e0",
   "metadata": {},
   "source": [
    "### Building Our Neural Network Model"
   ]
  },
  {
   "cell_type": "code",
   "execution_count": 32,
   "id": "f49406c4-6838-4e78-9f48-d849f5321a11",
   "metadata": {},
   "outputs": [],
   "source": [
    "factors = 100\n",
    "model = Sequential()\n",
    "users_layer = Sequential()\n",
    "movies_layer = Sequential()\n",
    "users_layer.add(Embedding(ratings_df[\"userId\"].unique().shape[0], factors, input_length=1))\n",
    "users_layer.add(Reshape(target_shape=(factors,)))\n",
    "movies_layer.add(Embedding(movies_df.shape[0], factors, input_length=1))\n",
    "movies_layer.add(Reshape(target_shape=(factors,)))\n",
    "model.add(Concatenate([users_layer, movies_layer]))\n",
    "model.compile(loss=\"mse\", optimizer=\"adamax\")"
   ]
  },
  {
   "cell_type": "markdown",
   "id": "5af089fb-9dac-41c9-9ab1-b78e37ac0fea",
   "metadata": {},
   "source": [
    "### Fitting Model"
   ]
  },
  {
   "cell_type": "code",
   "execution_count": 33,
   "id": "f5441daa-d220-4874-af46-ab12a97a566a",
   "metadata": {},
   "outputs": [
    {
     "ename": "TypeError",
     "evalue": "in user code:\n\n    File \"C:\\Users\\YN\\AppData\\Local\\Programs\\Python\\Python311\\Lib\\site-packages\\keras\\src\\engine\\training.py\", line 1377, in train_function  *\n        return step_function(self, iterator)\n    File \"C:\\Users\\YN\\AppData\\Local\\Programs\\Python\\Python311\\Lib\\site-packages\\keras\\src\\engine\\training.py\", line 1360, in step_function  **\n        outputs = model.distribute_strategy.run(run_step, args=(data,))\n    File \"C:\\Users\\YN\\AppData\\Local\\Programs\\Python\\Python311\\Lib\\site-packages\\keras\\src\\engine\\training.py\", line 1349, in run_step  **\n        outputs = model.train_step(data)\n    File \"C:\\Users\\YN\\AppData\\Local\\Programs\\Python\\Python311\\Lib\\site-packages\\keras\\src\\engine\\training.py\", line 1126, in train_step\n        y_pred = self(x, training=True)\n    File \"C:\\Users\\YN\\AppData\\Local\\Programs\\Python\\Python311\\Lib\\site-packages\\keras\\src\\utils\\traceback_utils.py\", line 70, in error_handler\n        raise e.with_traceback(filtered_tb) from None\n    File \"C:\\Users\\YN\\AppData\\Local\\Programs\\Python\\Python311\\Lib\\site-packages\\keras\\src\\layers\\merging\\concatenate.py\", line 107, in build\n        del reduced_inputs_shapes[i][self.axis]\n\n    TypeError: Exception encountered when calling layer 'sequential_6' (type Sequential).\n    \n    list indices must be integers or slices, not ListWrapper\n    \n    Call arguments received by layer 'sequential_6' (type Sequential):\n      • inputs=('tf.Tensor(shape=(None, 1), dtype=int64)', 'tf.Tensor(shape=(None, 1), dtype=int64)')\n      • training=True\n      • mask=None\n",
     "output_type": "error",
     "traceback": [
      "\u001b[1;31m---------------------------------------------------------------------------\u001b[0m",
      "\u001b[1;31mTypeError\u001b[0m                                 Traceback (most recent call last)",
      "Cell \u001b[1;32mIn[33], line 6\u001b[0m\n\u001b[0;32m      4\u001b[0m R \u001b[38;5;241m=\u001b[39m shuffled_ratings[\u001b[38;5;124m\"\u001b[39m\u001b[38;5;124mrating\u001b[39m\u001b[38;5;124m\"\u001b[39m]\n\u001b[0;32m      5\u001b[0m callbacks \u001b[38;5;241m=\u001b[39m [EarlyStopping(\u001b[38;5;124m'\u001b[39m\u001b[38;5;124mval_loss\u001b[39m\u001b[38;5;124m'\u001b[39m, patience\u001b[38;5;241m=\u001b[39m\u001b[38;5;241m2\u001b[39m), ModelCheckpoint(\u001b[38;5;124m'\u001b[39m\u001b[38;5;124mmovie_weights.h5\u001b[39m\u001b[38;5;124m'\u001b[39m, save_best_only\u001b[38;5;241m=\u001b[39m\u001b[38;5;28;01mTrue\u001b[39;00m)]\n\u001b[1;32m----> 6\u001b[0m \u001b[43mmodel\u001b[49m\u001b[38;5;241;43m.\u001b[39;49m\u001b[43mfit\u001b[49m\u001b[43m(\u001b[49m\u001b[43m[\u001b[49m\u001b[43mU\u001b[49m\u001b[43m,\u001b[49m\u001b[43m \u001b[49m\u001b[43mM\u001b[49m\u001b[43m]\u001b[49m\u001b[43m,\u001b[49m\u001b[43m \u001b[49m\u001b[43mR\u001b[49m\u001b[43m,\u001b[49m\u001b[43m \u001b[49m\u001b[43mbatch_size\u001b[49m\u001b[38;5;241;43m=\u001b[39;49m\u001b[38;5;241;43m1000000\u001b[39;49m\u001b[43m,\u001b[49m\u001b[43m \u001b[49m\u001b[43mvalidation_split\u001b[49m\u001b[38;5;241;43m=\u001b[39;49m\u001b[38;5;241;43m.1\u001b[39;49m\u001b[43m,\u001b[49m\u001b[43m \u001b[49m\u001b[43mcallbacks\u001b[49m\u001b[38;5;241;43m=\u001b[39;49m\u001b[43mcallbacks\u001b[49m\u001b[43m)\u001b[49m\n",
      "File \u001b[1;32m~\\AppData\\Local\\Programs\\Python\\Python311\\Lib\\site-packages\\keras\\src\\utils\\traceback_utils.py:70\u001b[0m, in \u001b[0;36mfilter_traceback.<locals>.error_handler\u001b[1;34m(*args, **kwargs)\u001b[0m\n\u001b[0;32m     67\u001b[0m     filtered_tb \u001b[38;5;241m=\u001b[39m _process_traceback_frames(e\u001b[38;5;241m.\u001b[39m__traceback__)\n\u001b[0;32m     68\u001b[0m     \u001b[38;5;66;03m# To get the full stack trace, call:\u001b[39;00m\n\u001b[0;32m     69\u001b[0m     \u001b[38;5;66;03m# `tf.debugging.disable_traceback_filtering()`\u001b[39;00m\n\u001b[1;32m---> 70\u001b[0m     \u001b[38;5;28;01mraise\u001b[39;00m e\u001b[38;5;241m.\u001b[39mwith_traceback(filtered_tb) \u001b[38;5;28;01mfrom\u001b[39;00m \u001b[38;5;28;01mNone\u001b[39;00m\n\u001b[0;32m     71\u001b[0m \u001b[38;5;28;01mfinally\u001b[39;00m:\n\u001b[0;32m     72\u001b[0m     \u001b[38;5;28;01mdel\u001b[39;00m filtered_tb\n",
      "File \u001b[1;32m~\\AppData\\Local\\Temp\\__autograph_generated_fileuyq4b8yk.py:15\u001b[0m, in \u001b[0;36mouter_factory.<locals>.inner_factory.<locals>.tf__train_function\u001b[1;34m(iterator)\u001b[0m\n\u001b[0;32m     13\u001b[0m \u001b[38;5;28;01mtry\u001b[39;00m:\n\u001b[0;32m     14\u001b[0m     do_return \u001b[38;5;241m=\u001b[39m \u001b[38;5;28;01mTrue\u001b[39;00m\n\u001b[1;32m---> 15\u001b[0m     retval_ \u001b[38;5;241m=\u001b[39m ag__\u001b[38;5;241m.\u001b[39mconverted_call(ag__\u001b[38;5;241m.\u001b[39mld(step_function), (ag__\u001b[38;5;241m.\u001b[39mld(\u001b[38;5;28mself\u001b[39m), ag__\u001b[38;5;241m.\u001b[39mld(iterator)), \u001b[38;5;28;01mNone\u001b[39;00m, fscope)\n\u001b[0;32m     16\u001b[0m \u001b[38;5;28;01mexcept\u001b[39;00m:\n\u001b[0;32m     17\u001b[0m     do_return \u001b[38;5;241m=\u001b[39m \u001b[38;5;28;01mFalse\u001b[39;00m\n",
      "\u001b[1;31mTypeError\u001b[0m: in user code:\n\n    File \"C:\\Users\\YN\\AppData\\Local\\Programs\\Python\\Python311\\Lib\\site-packages\\keras\\src\\engine\\training.py\", line 1377, in train_function  *\n        return step_function(self, iterator)\n    File \"C:\\Users\\YN\\AppData\\Local\\Programs\\Python\\Python311\\Lib\\site-packages\\keras\\src\\engine\\training.py\", line 1360, in step_function  **\n        outputs = model.distribute_strategy.run(run_step, args=(data,))\n    File \"C:\\Users\\YN\\AppData\\Local\\Programs\\Python\\Python311\\Lib\\site-packages\\keras\\src\\engine\\training.py\", line 1349, in run_step  **\n        outputs = model.train_step(data)\n    File \"C:\\Users\\YN\\AppData\\Local\\Programs\\Python\\Python311\\Lib\\site-packages\\keras\\src\\engine\\training.py\", line 1126, in train_step\n        y_pred = self(x, training=True)\n    File \"C:\\Users\\YN\\AppData\\Local\\Programs\\Python\\Python311\\Lib\\site-packages\\keras\\src\\utils\\traceback_utils.py\", line 70, in error_handler\n        raise e.with_traceback(filtered_tb) from None\n    File \"C:\\Users\\YN\\AppData\\Local\\Programs\\Python\\Python311\\Lib\\site-packages\\keras\\src\\layers\\merging\\concatenate.py\", line 107, in build\n        del reduced_inputs_shapes[i][self.axis]\n\n    TypeError: Exception encountered when calling layer 'sequential_6' (type Sequential).\n    \n    list indices must be integers or slices, not ListWrapper\n    \n    Call arguments received by layer 'sequential_6' (type Sequential):\n      • inputs=('tf.Tensor(shape=(None, 1), dtype=int64)', 'tf.Tensor(shape=(None, 1), dtype=int64)')\n      • training=True\n      • mask=None\n"
     ]
    }
   ],
   "source": [
    "shuffled_ratings = ratings_df.sample(frac=1.)\n",
    "U = shuffled_ratings[\"userId\"]\n",
    "M = shuffled_ratings[\"movieId\"]\n",
    "R = shuffled_ratings[\"rating\"]\n",
    "callbacks = [EarlyStopping('val_loss', patience=2), ModelCheckpoint('movie_weights.h5', save_best_only=True)]\n",
    "model.fit([U, M], R, batch_size=1000000, validation_split=.1, callbacks=callbacks)"
   ]
  },
  {
   "cell_type": "code",
   "execution_count": null,
   "id": "9645f7c2-dffa-414f-b098-a900f8dbd2fe",
   "metadata": {},
   "outputs": [],
   "source": []
  }
 ],
 "metadata": {
  "kernelspec": {
   "display_name": "Python 3 (ipykernel)",
   "language": "python",
   "name": "python3"
  },
  "language_info": {
   "codemirror_mode": {
    "name": "ipython",
    "version": 3
   },
   "file_extension": ".py",
   "mimetype": "text/x-python",
   "name": "python",
   "nbconvert_exporter": "python",
   "pygments_lexer": "ipython3",
   "version": "3.11.5"
  }
 },
 "nbformat": 4,
 "nbformat_minor": 5
}
